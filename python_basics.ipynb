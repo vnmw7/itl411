{
 "cells": [
  {
   "cell_type": "code",
   "execution_count": 1,
   "id": "3f99d8a1",
   "metadata": {},
   "outputs": [
    {
     "name": "stdout",
     "output_type": "stream",
     "text": [
      "1.79\n"
     ]
    }
   ],
   "source": [
    "height = 1.79\n",
    "weight = 68.7\n",
    "\n",
    "print(height)"
   ]
  },
  {
   "cell_type": "code",
   "execution_count": 1,
   "id": "42a47e1b",
   "metadata": {},
   "outputs": [
    {
     "name": "stdout",
     "output_type": "stream",
     "text": [
      "3\n",
      "2\n",
      "0.5\n",
      "-1\n",
      "-3\n"
     ]
    }
   ],
   "source": [
    "a = 1\n",
    "b = 2\n",
    "\n",
    "print(a + b)\n",
    "print(a * b)\n",
    "print(a / b)\n",
    "print(a - b)\n",
    "print((a + b) * (a - b) ** 1)"
   ]
  },
  {
   "cell_type": "code",
   "execution_count": null,
   "id": "c0c54942",
   "metadata": {},
   "outputs": [
    {
     "name": "stdout",
     "output_type": "stream",
     "text": [
      "a is 1\n"
     ]
    }
   ],
   "source": [
    "a = 1\n",
    "\n",
    "if a == 1:\n",
    "    print(\"a is 1\")"
   ]
  },
  {
   "cell_type": "code",
   "execution_count": 33,
   "id": "8bced066",
   "metadata": {},
   "outputs": [
    {
     "name": "stdout",
     "output_type": "stream",
     "text": [
      "a is not 1\n"
     ]
    }
   ],
   "source": [
    "a = 2\n",
    "\n",
    "if a == 1:\n",
    "    print(\"a is 1\")\n",
    "else:\n",
    "    print(\"a is not 1\")"
   ]
  },
  {
   "cell_type": "code",
   "execution_count": 4,
   "id": "eb0183be",
   "metadata": {},
   "outputs": [
    {
     "name": "stdout",
     "output_type": "stream",
     "text": [
      "a is 1 and b is 2\n"
     ]
    }
   ],
   "source": [
    "a = 1\n",
    "b = 2\n",
    "\n",
    "if a == 1:\n",
    "    if b == 2:\n",
    "        print(\"a is 1 and b is 2\")\n",
    "    else:\n",
    "        print(\"a is 1 and b is not 2\")\n",
    "else:\n",
    "    print(\"a is not 1\")"
   ]
  },
  {
   "cell_type": "code",
   "execution_count": 15,
   "id": "360e6558",
   "metadata": {},
   "outputs": [
    {
     "name": "stdout",
     "output_type": "stream",
     "text": [
      "1\n",
      "2\n",
      "3\n",
      "4\n",
      "5\n",
      "6\n",
      "7\n",
      "8\n",
      "9\n",
      "10\n"
     ]
    }
   ],
   "source": [
    "x = 1\n",
    "\n",
    "for i in range(10):\n",
    "    print(x + i)"
   ]
  },
  {
   "cell_type": "code",
   "execution_count": 16,
   "id": "f3d50e14",
   "metadata": {},
   "outputs": [
    {
     "name": "stdout",
     "output_type": "stream",
     "text": [
      "1\n",
      "2\n",
      "3\n",
      "4\n",
      "5\n"
     ]
    }
   ],
   "source": [
    "word = [1, 2, 3, 4, 5]\n",
    "\n",
    "for num in word:\n",
    "    print(num)"
   ]
  },
  {
   "cell_type": "code",
   "execution_count": 19,
   "id": "771bfbc7",
   "metadata": {},
   "outputs": [
    {
     "name": "stdout",
     "output_type": "stream",
     "text": [
      "Hello, world!\n",
      "5\n"
     ]
    }
   ],
   "source": [
    "def hello_world():\n",
    "    print(\"Hello, world!\")\n",
    "    \n",
    "hello_world()\n",
    "\n",
    "word = [1, 2, 3, 4, 5]\n",
    "print(max(word))"
   ]
  },
  {
   "cell_type": "code",
   "execution_count": 20,
   "id": "a875311b",
   "metadata": {},
   "outputs": [
    {
     "name": "stdout",
     "output_type": "stream",
     "text": [
      "[1, 2, 3, 4, 5]\n"
     ]
    }
   ],
   "source": [
    "word = [1, 2, 3, 4, 5]\n",
    "words_list = list(word)\n",
    "\n",
    "print(words_list)"
   ]
  },
  {
   "cell_type": "code",
   "execution_count": 21,
   "id": "c8196a28",
   "metadata": {},
   "outputs": [
    {
     "name": "stdout",
     "output_type": "stream",
     "text": [
      "{1: None, 2: None, 3: None, 4: None, 5: None}\n"
     ]
    }
   ],
   "source": [
    "word = [1, 2, 3, 4, 5]\n",
    "words_dict = dict.fromkeys(word)\n",
    "\n",
    "print(words_dict)"
   ]
  },
  {
   "cell_type": "code",
   "execution_count": 25,
   "id": "15bbd62b",
   "metadata": {},
   "outputs": [
    {
     "name": "stdout",
     "output_type": "stream",
     "text": [
      "1\n",
      "2025-08-19 18:18:28.034404\n",
      "[<matplotlib.lines.Line2D object at 0x0000018E8860B390>]\n",
      "2025-08-19 18:18:28.078944\n",
      "c:\\projects\\itl411\n"
     ]
    },
    {
     "data": {
      "image/png": "[encoded data removed]",
      "text/plain": [
       "<Figure size 640x480 with 1 Axes>"
      ]
     },
     "metadata": {},
     "output_type": "display_data"
    }
   ],
   "source": [
    "import numpy as np\n",
    "import pandas as pd\n",
    "import matplotlib.pyplot as plt\n",
    "import datetime as dt\n",
    "import os\n",
    "\n",
    "print(np.absolute(-1))\n",
    "print(pd.Timestamp.now())\n",
    "print(plt.plot([1, 2, 3], [4, 5, 6]))\n",
    "print(dt.datetime.now())\n",
    "print(os.getcwd())\n"
   ]
  },
  {
   "cell_type": "code",
   "execution_count": 29,
   "id": "7a330740",
   "metadata": {},
   "outputs": [
    {
     "name": "stdout",
     "output_type": "stream",
     "text": [
      "    Timestamp             DateTime     Open     High      Low    Close  \\\n",
      "0  1744060260  2025-04-08 05:11:00  1.09439  1.09440  1.09379  1.09396   \n",
      "1  1744060320  2025-04-08 05:12:00  1.09395  1.09396  1.09359  1.09371   \n",
      "2  1744060380  2025-04-08 05:13:00  1.09370  1.09374  1.09343  1.09344   \n",
      "3  1744060440  2025-04-08 05:14:00  1.09345  1.09351  1.09337  1.09337   \n",
      "4  1744060500  2025-04-08 05:15:00  1.09338  1.09354  1.09329  1.09347   \n",
      "\n",
      "   Volume  Spread  Real_Volume  \n",
      "0     257       0            0  \n",
      "1     245       0            0  \n",
      "2     198       0            0  \n",
      "3     191       0            0  \n",
      "4     293       0            0  \n"
     ]
    }
   ],
   "source": [
    "import pandas as pd\n",
    "\n",
    "raw_data = pd.read_csv('C:/projects/itl411/candlestick_data.csv')\n",
    "print(raw_data.head())"
   ]
  },
  {
   "cell_type": "code",
   "execution_count": 32,
   "id": "754b41ec",
   "metadata": {},
   "outputs": [
    {
     "data": {
      "text/plain": [
       "[<matplotlib.lines.Line2D at 0x18e8dc79450>]"
      ]
     },
     "execution_count": 32,
     "metadata": {},
     "output_type": "execute_result"
    },
    {
     "data": {
      "image/png": "[encoded data removed]",
      "text/plain": [
       "<Figure size 640x480 with 1 Axes>"
      ]
     },
     "metadata": {},
     "output_type": "display_data"
    }
   ],
   "source": [
    "import matplotlib.pyplot as plt\n",
    "import pandas as pd\n",
    "\n",
    "raw_data = pd.read_csv('C:/projects/itl411/candlestick_data.csv')\n",
    "plt.plot(raw_data['Open'], raw_data['Close'])"
   ]
  }
 ],
 "metadata": {
  "kernelspec": {
   "display_name": ".venv",
   "language": "python",
   "name": "python3"
  },
  "language_info": {
   "codemirror_mode": {
    "name": "ipython",
    "version": 3
   },
   "file_extension": ".py",
   "mimetype": "text/x-python",
   "name": "python",
   "nbconvert_exporter": "python",
   "pygments_lexer": "ipython3",
   "version": "3.13.5"
  }
 },
 "nbformat": 4,
 "nbformat_minor": 5
}
